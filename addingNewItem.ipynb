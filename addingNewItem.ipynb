{
  "nbformat": 4,
  "nbformat_minor": 0,
  "metadata": {
    "colab": {
      "name": "addingNewItem.ipynb",
      "provenance": [],
      "collapsed_sections": []
    },
    "kernelspec": {
      "name": "python3",
      "display_name": "Python 3"
    },
    "language_info": {
      "name": "python"
    },
    "accelerator": "GPU"
  },
  "cells": [
    {
      "cell_type": "code",
      "metadata": {
        "id": "abzy9JhBjoiE"
      },
      "source": [
        "record={1001:{\"name\": \"Choco Cake\", \"qn\": 34, \"pr\": 100,\"discount\":20,\"manufacure_company\":\"Cadberry\"},\n",
        "        1002:{\"name\": \"Milk Cake\", \"pr\": 800, \"qn\": 100,\"discount\":10,\"manufacure_company\":\"Catberry\"},\n",
        "        1003:{\"name\": \"Drink\", \"pr\": 85, \"qn\": 100,\"discount\":5,\"manufacure_company\":\"Fanta\"},\n",
        "        1004:{\"name\": \"Candy\", \"pr\": 5, \"qn\": 1000,\"discount\":0,\"manufacure_company\":\"Ideal\"},\n",
        "        1005:{\"name\": \"Pen\", \"pr\": 20, \"qn\": 100,\"discount\":0,\"manufacure_company\":\"Nataraj\"},\n",
        "        1006:{\"name\": \"Phone\", \"pr\": 50000, \"qn\": 10,\"discount\":1000,\"manufacure_company\":\"Realme\"},\n",
        "        1007:{\"name\": \"Mic\", \"pr\": 1500, \"qn\": 0,\"discount\":50,\"manufacure_company\":\"AKG\"},\n",
        "        1008:{\"name\": \"Case\", \"pr\": 599, \"qn\": 5,\"discount\":50,\"manufacure_company\":\"Noinformation\"},\n",
        "        1009:{\"name\": \"Keyboard\", \"pr\": 1999, \"qn\": 10,\"discount\":10,\"manufacure_company\":\"Dell\"},\n",
        "        1010:{\"name\": \"Umbrella\", \"pr\": 300, \"qn\": 150,\"discount\":30,\"manufacure_company\":\"Popy\"},\n",
        "        1011:{\"name\": \"Pendrive\", \"pr\": 1200, \"qn\": 15,\"discount\":250,\"manufacure_company\":\"Sandisk\"},\n",
        "        1012:{\"name\": \"brush\", \"pr\": 30, \"qn\": 100,\"discount\":0,\"manufacure_company\":\"Colgate\"},\n",
        "        1013:{\"name\": \"laptop\", \"pr\": 45000, \"qn\": 150,\"discount\":5000,\"manufacure_company\":\"Lenovo\"},\n",
        "        1014:{\"name\": \"pencil\", \"pr\": 10, \"qn\": 10,\"discount\":0,\"manufacure_company\":\"Natraj\"},\n",
        "        1015:{\"name\": \"lipstick\", \"pr\": 450, \"qn\": 150,\"discount\":20,\"manufacure_company\":\"Lakme\"},\n",
        "        1016:{\"name\": \"DairyMilk\", \"pr\": 50, \"qn\": 30,\"discount\":2,\"manufacure_company\":\"Catberry\"},\n",
        "        1017:{\"name\": \"T-shirt\", \"pr\": 300, \"qn\": 50,\"discount\":20,\"manufacure_company\":\"Fig\"},\n",
        "        1018:{\"name\": \"powerbank\", \"pr\": 1000, \"qn\": 10,\"discount\":200,\"manufacure_company\":\"MI\"},\n",
        "        1019:{\"name\": \"Mask\", \"pr\": 100, \"qn\": 150,\"discount\":10,\"manufacure_company\":\"wildcraft\"},\n",
        "        1020:{\"name\": \"Kitkat\", \"pr\": 20, \"qn\":20,\"discount\":0,\"manufacure_company\":\"nestle\"},\n",
        "        1021:{\"name\": \"mouse\", \"pr\": 800, \"qn\": 50,\"discount\":25,\"manufacure_company\":\"Logitech\"},\n",
        "        1022:{\"name\": \"sniker\", \"pr\": 10, \"qn\": 150,\"discount\":0,\"manufacure_company\":\"Catberry\"},\n",
        "        1023:{\"name\": \"Bag\", \"pr\": 1500, \"qn\": 10,\"discount\":230,\"manufacure_company\":\"Wildcraft\"},\n",
        "        1024:{\"name\": \"headphone\", \"pr\": 2000, \"qn\": 40,\"discount\":500,\"manufacure_company\":\"Boat\"},\n",
        "        1025:{\"name\": \"toothpaste\", \"pr\": 50, \"qn\": 5,\"discount\":0,\"manufacure_company\":\"Colgate\"},\n",
        "        1026:{\"name\": \"shoes\", \"pr\": 1000, \"qn\": 100,\"discount\":20,\"manufacure_company\":\"Adidas\"},\n",
        "        1027:{\"name\": \"specs\", \"pr\": 800, \"qn\": 50,\"discount\":0,\"manufacure_company\":\"TomFord\"},\n",
        "        1028:{\"name\": \"calculator\", \"pr\": 700, \"qn\": 10,\"discount\":35,\"manufacure_company\":\"Casio\"},\n",
        "        1029:{\"name\": \"scale\", \"pr\": 10, \"qn\": 20,\"discount\":0,\"manufacure_company\":\"Cello\"},\n",
        "        1030:{\"name\": \"Kurthi\", \"pr\": 300, \"qn\": 150,\"discount\":20,\"manufacure_company\":\"Biba\"}}\n",
        "\n",
        "              "
      ],
      "execution_count": 1,
      "outputs": []
    },
    {
      "cell_type": "code",
      "metadata": {
        "id": "HBDz6xBwnkGD"
      },
      "source": [
        "import json\n",
        "import time"
      ],
      "execution_count": 2,
      "outputs": []
    },
    {
      "cell_type": "code",
      "metadata": {
        "id": "90WfbU_aqkVq"
      },
      "source": [
        "js=json.dumps(record)\n",
        "fd = open(\"record.json\",'w')\n",
        "fd.write(js)\n",
        "fd.close()"
      ],
      "execution_count": 4,
      "outputs": []
    },
    {
      "cell_type": "code",
      "metadata": {
        "colab": {
          "base_uri": "https://localhost:8080/",
          "height": 35
        },
        "id": "VeVMYkJLQpIx",
        "outputId": "d9e4065d-e760-4ddb-a4bd-44fe8b0fa76c"
      },
      "source": [
        "time.ctime()"
      ],
      "execution_count": 5,
      "outputs": [
        {
          "output_type": "execute_result",
          "data": {
            "application/vnd.google.colaboratory.intrinsic+json": {
              "type": "string"
            },
            "text/plain": [
              "'Mon Sep  6 15:40:30 2021'"
            ]
          },
          "metadata": {},
          "execution_count": 5
        }
      ]
    },
    {
      "cell_type": "markdown",
      "metadata": {
        "id": "j4gMt_EHfrwA"
      },
      "source": [
        "# **Read Data from JSON**"
      ]
    },
    {
      "cell_type": "code",
      "metadata": {
        "id": "SsGPYBqlTwZr"
      },
      "source": [
        "fd = open(\"record.json\",'r')\n",
        "r = fd.read()\n",
        "fd.close()\n",
        "record = json.loads(r)"
      ],
      "execution_count": 6,
      "outputs": []
    },
    {
      "cell_type": "markdown",
      "metadata": {
        "id": "2FYxKoMWf3zo"
      },
      "source": [
        "# **Add New Item into Inventory**"
      ]
    },
    {
      "cell_type": "code",
      "metadata": {
        "id": "rfwBTWSyU3C2",
        "colab": {
          "base_uri": "https://localhost:8080/"
        },
        "outputId": "b0aeccef-70b5-41d1-c6be-707372a8b8ac"
      },
      "source": [
        "prod_id = str(input(\"Enter product id:\"))\n",
        "if prod_id in record.keys():\n",
        "  print(\"key already exits!\")\n",
        "  print(\"Name:\",record[prod_id]['name'])\n",
        "  qn = int(input(\"Enter quantity:\"))\n",
        "  record[prod_id] = {'name': record[prod_id]['name'], 'pr':record[prod_id]['pr'], 'qn': qn+record[prod_id]['qn'],\"discount\":record[prod_id]['discount'],\"manufacure_company\":record[prod_id]['manufacture_company']}\n",
        "  \n",
        "else:\n",
        "  name = str(input(\"Enter name:\"))\n",
        "  pr = int(input(\"Enter price:\"))\n",
        "  qn = int(input(\"Enter quantity:\"))\n",
        "  discount = int(input(\"Enter discount amount:\"))\n",
        "  manufacture_company=input(\"Enter manufacture company:\")\n",
        "  record[prod_id] = {'name': name, 'pr': pr, 'qn': qn, 'discount':discount,'manufacture_company':manufacture_company}\n",
        "  print(\"Product added successfully!!\")\n",
        "js = json.dumps(record)\n",
        "fd = open(\"record.json\",'w')\n",
        "fd.write(js)\n",
        "fd.close()"
      ],
      "execution_count": 7,
      "outputs": [
        {
          "output_type": "stream",
          "name": "stdout",
          "text": [
            "Enter product id:1031\n",
            "Enter name:Nailpolish\n",
            "Enter price:75\n",
            "Enter quantity:20\n",
            "Enter discount amount:0\n",
            "Enter manufacture company:Lakme\n",
            "Product added successfully!!\n"
          ]
        }
      ]
    },
    {
      "cell_type": "code",
      "metadata": {
        "id": "3wiJF001hM4L"
      },
      "source": [
        "record"
      ],
      "execution_count": null,
      "outputs": []
    },
    {
      "cell_type": "markdown",
      "metadata": {
        "id": "TXcd_jlQz6TR"
      },
      "source": [
        "# **Delete item**"
      ]
    },
    {
      "cell_type": "code",
      "metadata": {
        "id": "xHSOqT2uWIvN"
      },
      "source": [
        "del record['1001']"
      ],
      "execution_count": 12,
      "outputs": []
    }
  ]
}