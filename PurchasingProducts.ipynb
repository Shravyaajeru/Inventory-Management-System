{
  "nbformat": 4,
  "nbformat_minor": 0,
  "metadata": {
    "colab": {
      "name": "PurchasingProducts.ipynb",
      "provenance": [],
      "collapsed_sections": []
    },
    "kernelspec": {
      "name": "python3",
      "display_name": "Python 3"
    },
    "language_info": {
      "name": "python"
    }
  },
  "cells": [
    {
      "cell_type": "markdown",
      "metadata": {
        "id": "k5ZtSALJW-xs"
      },
      "source": [
        "# **Read** **inventary**"
      ]
    },
    {
      "cell_type": "code",
      "metadata": {
        "id": "1s0H0J6DXb5U"
      },
      "source": [
        "import json\n",
        "import time\n",
        "fd = open(\"record.json\",'r')\n",
        "r = fd.read()\n",
        "fd.close()\n",
        "records = json.loads(r)"
      ],
      "execution_count": 143,
      "outputs": []
    },
    {
      "cell_type": "code",
      "metadata": {
        "id": "83VdsaI61nZB"
      },
      "source": [
        "fd = open(\"record.json\",'r')\n",
        "r = fd.read()\n",
        "fd.close()\n",
        "record = json.loads(r)"
      ],
      "execution_count": 144,
      "outputs": []
    },
    {
      "cell_type": "code",
      "metadata": {
        "id": "h3KmOe8zPpjC"
      },
      "source": [
        "def billing():\n",
        "  ui_time=time.ctime()\n",
        "  print(\"Date:\",ui_time)\n",
        "  print(\"Name:\",ui_name)\n",
        "  print(\"Product          |    Price    |   Quntity   |   Discount    |     Amount\")\n",
        "  print(\"*****************************************************************************\")\n",
        "  print(str(records[ui_prod]['name'])+\"              \"+ str(records[ui_prod]['pr'])+\"              \"+str(ui_quant)+\"             \"+ str(records[ui_prod]['discount'])+\"            \"+str((records[ui_prod]['pr']-records[ui_prod]['discount']) * ui_quant))\n",
        "\n",
        "  print(\"\\n\")\n",
        "  print(\"\\n\")\n",
        "  print(\"*****************************************************************************\")\n",
        "  print(\"Billing Amount:                                                  \", (records[ui_prod]['pr']-records[ui_prod]['discount']) * ui_quant)\n",
        "  print(\"*****************************************************************************\")\n"
      ],
      "execution_count": 216,
      "outputs": []
    },
    {
      "cell_type": "code",
      "metadata": {
        "id": "Tp-xHgIzgvRi"
      },
      "source": [
        "records"
      ],
      "execution_count": null,
      "outputs": []
    },
    {
      "cell_type": "markdown",
      "metadata": {
        "id": "J6BzVMuUXks-"
      },
      "source": [
        "# **Purchase**"
      ]
    },
    {
      "cell_type": "code",
      "metadata": {
        "id": "ODtBrxHKXv3W",
        "colab": {
          "base_uri": "https://localhost:8080/"
        },
        "outputId": "317dac80-d823-45d5-eab7-cc8cfab4ba15"
      },
      "source": [
        "ui_name=input(\"Enter your name:\")\n",
        "ui_prod  = str(input(\"Enter the product_Id: \"))\n",
        "ui_quant = int(input(\"Enter the quantity: \"))\n",
        "if ui_prod not in records.keys():\n",
        "  print(\"Invalid Product ID!!\")\n",
        "elif (records[ui_prod]['qn']==0):\n",
        "    print(\"Out of stock...\")\n",
        "else:\n",
        "  if (ui_quant > records[ui_prod]['qn']):\n",
        "    print(\"That much products are not available, Available quantity:\",records[ui_prod]['qn'])\n",
        "    ui_quant = int(input(\"Enter the quantity: \"))\n",
        "    billing()\n",
        "  else:\n",
        "    billing()"
      ],
      "execution_count": 238,
      "outputs": [
        {
          "output_type": "stream",
          "name": "stdout",
          "text": [
            "Enter your name:Ashish\n",
            "Enter the product_Id: 1016\n",
            "Enter the quantity: 10\n",
            "Date: Mon Sep  6 17:00:25 2021\n",
            "Name: Ashish\n",
            "Product          |    Price    |   Quntity   |   Discount    |     Amount\n",
            "*****************************************************************************\n",
            "DairyMilk              50              10             2            480\n",
            "\n",
            "\n",
            "\n",
            "\n",
            "*****************************************************************************\n",
            "Billing Amount:                                                   480\n",
            "*****************************************************************************\n"
          ]
        }
      ]
    },
    {
      "cell_type": "markdown",
      "metadata": {
        "id": "ZS1KFJXAX5pp"
      },
      "source": [
        "# **Update Inventory after purchase**"
      ]
    },
    {
      "cell_type": "code",
      "metadata": {
        "id": "SVzzsbnbYCCe"
      },
      "source": [
        "ui_time=time.ctime()\n",
        "js = json.dumps(records)\n",
        "fd = open(\"record.json\",'w')\n",
        "fd.write(js)\n",
        "fd.close()"
      ],
      "execution_count": 239,
      "outputs": []
    },
    {
      "cell_type": "code",
      "metadata": {
        "id": "CHmkUMEo4RDC"
      },
      "source": [
        "records"
      ],
      "execution_count": null,
      "outputs": []
    },
    {
      "cell_type": "markdown",
      "metadata": {
        "id": "ogx9HeYVYZll"
      },
      "source": [
        "# **Sales JSON**"
      ]
    },
    {
      "cell_type": "code",
      "metadata": {
        "id": "VUntF9rrYlMC",
        "colab": {
          "base_uri": "https://localhost:8080/"
        },
        "outputId": "ec607925-df2c-43a8-f384-f00a10cf28d9"
      },
      "source": [
        "{'name':ui_name,'prod' : ui_prod, 'qn' : ui_quant, 'amount': (records[ui_prod]['pr']-records[ui_prod]['discount']) * ui_quant,'time':ui_time}"
      ],
      "execution_count": 240,
      "outputs": [
        {
          "output_type": "execute_result",
          "data": {
            "text/plain": [
              "{'amount': 480,\n",
              " 'name': 'Ashish',\n",
              " 'prod': '1016',\n",
              " 'qn': 10,\n",
              " 'time': 'Mon Sep  6 17:00:37 2021'}"
            ]
          },
          "metadata": {},
          "execution_count": 240
        }
      ]
    },
    {
      "cell_type": "code",
      "metadata": {
        "id": "20pZC1ifY6sO"
      },
      "source": [
        "sales = {1 : {'name':ui_name,'prod' : ui_prod, 'qn' : ui_quant, 'amount': (records[ui_prod]['pr']-records[ui_prod]['discount']) * ui_quant,'time':ui_time}}\n",
        "         \n",
        "      "
      ],
      "execution_count": 156,
      "outputs": []
    },
    {
      "cell_type": "code",
      "metadata": {
        "id": "35tSzHCaY8U6"
      },
      "source": [
        "sale = json.dumps(sales)"
      ],
      "execution_count": 241,
      "outputs": []
    },
    {
      "cell_type": "code",
      "metadata": {
        "id": "zxa8AihdwAlm"
      },
      "source": [
        "sales[len(sales)+1]={'name':ui_name,'prod' : ui_prod, 'qn' : ui_quant, 'amount': (records[ui_prod]['pr']-records[ui_prod]['discount']) * ui_quant,'time':ui_time}"
      ],
      "execution_count": 242,
      "outputs": []
    },
    {
      "cell_type": "code",
      "metadata": {
        "id": "hR3wzRE3w9c4"
      },
      "source": [
        "fd = open(\"sales.json\",'w')\n",
        "fd.write(sale)\n",
        "fd.close()"
      ],
      "execution_count": 243,
      "outputs": []
    },
    {
      "cell_type": "code",
      "metadata": {
        "id": "VkVO-O-gU5Ob"
      },
      "source": [
        "sales"
      ],
      "execution_count": null,
      "outputs": []
    }
  ]
}